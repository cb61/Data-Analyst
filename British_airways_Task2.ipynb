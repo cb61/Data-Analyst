{
 "cells": [
  {
   "cell_type": "code",
   "execution_count": 7,
   "id": "b3f3d6c9-7f41-432c-9f98-b07b240ad616",
   "metadata": {},
   "outputs": [],
   "source": [
    "%matplotlib inline\n",
    "\n",
    "import pandas as pd\n",
    "import numpy as np\n",
    "import matplotlib.pyplot as plt\n",
    "import seaborn as sns\n",
    "\n",
    "import warnings\n",
    "warnings.filterwarnings(\"ignore\")"
   ]
  },
  {
   "cell_type": "code",
   "execution_count": 12,
   "id": "6f728592-5618-42b6-ab5c-f89ff40f29d5",
   "metadata": {},
   "outputs": [
    {
     "name": "stdout",
     "output_type": "stream",
     "text": [
      "Requirement already satisfied: chardet in c:\\users\\chandrabhushan.yadav\\appdata\\local\\anaconda3\\lib\\site-packages (4.0.0)\n",
      "Note: you may need to restart the kernel to use updated packages.\n"
     ]
    }
   ],
   "source": [
    "pip install chardet"
   ]
  },
  {
   "cell_type": "code",
   "execution_count": 19,
   "id": "ec3b1b61-3351-4c2b-a7f2-56bbc500bd68",
   "metadata": {},
   "outputs": [],
   "source": [
    "data= 'Python lect/customer_booking.csv'"
   ]
  },
  {
   "cell_type": "code",
   "execution_count": 21,
   "id": "2a7d4637-d6cd-4a2c-a650-6c0ca458870c",
   "metadata": {},
   "outputs": [
    {
     "name": "stdout",
     "output_type": "stream",
     "text": [
      "{'encoding': 'ISO-8859-1', 'confidence': 0.73, 'language': ''}\n"
     ]
    }
   ],
   "source": [
    "import chardet\n",
    "\n",
    "with open('Python lect/customer_booking.csv', 'rb') as rawdata:\n",
    "  result = chardet.detect(rawdata.read(100000))\n",
    "\n",
    "print(result)"
   ]
  },
  {
   "cell_type": "code",
   "execution_count": 22,
   "id": "6f91ab78-6c7d-4fbe-a80d-f4267cbf18e3",
   "metadata": {},
   "outputs": [],
   "source": [
    "df= pd.read_csv(data, encoding='ISO-8859-1')"
   ]
  },
  {
   "cell_type": "code",
   "execution_count": 23,
   "id": "5988d5ef-964b-4e34-956e-4e0e11cdbbc7",
   "metadata": {},
   "outputs": [
    {
     "data": {
      "text/html": [
       "<div>\n",
       "<style scoped>\n",
       "    .dataframe tbody tr th:only-of-type {\n",
       "        vertical-align: middle;\n",
       "    }\n",
       "\n",
       "    .dataframe tbody tr th {\n",
       "        vertical-align: top;\n",
       "    }\n",
       "\n",
       "    .dataframe thead th {\n",
       "        text-align: right;\n",
       "    }\n",
       "</style>\n",
       "<table border=\"1\" class=\"dataframe\">\n",
       "  <thead>\n",
       "    <tr style=\"text-align: right;\">\n",
       "      <th></th>\n",
       "      <th>num_passengers</th>\n",
       "      <th>sales_channel</th>\n",
       "      <th>trip_type</th>\n",
       "      <th>purchase_lead</th>\n",
       "      <th>length_of_stay</th>\n",
       "      <th>flight_hour</th>\n",
       "      <th>flight_day</th>\n",
       "      <th>route</th>\n",
       "      <th>booking_origin</th>\n",
       "      <th>wants_extra_baggage</th>\n",
       "      <th>wants_preferred_seat</th>\n",
       "      <th>wants_in_flight_meals</th>\n",
       "      <th>flight_duration</th>\n",
       "      <th>booking_complete</th>\n",
       "    </tr>\n",
       "  </thead>\n",
       "  <tbody>\n",
       "    <tr>\n",
       "      <th>0</th>\n",
       "      <td>2</td>\n",
       "      <td>Internet</td>\n",
       "      <td>RoundTrip</td>\n",
       "      <td>262</td>\n",
       "      <td>19</td>\n",
       "      <td>7</td>\n",
       "      <td>Sat</td>\n",
       "      <td>AKLDEL</td>\n",
       "      <td>New Zealand</td>\n",
       "      <td>1</td>\n",
       "      <td>0</td>\n",
       "      <td>0</td>\n",
       "      <td>5.52</td>\n",
       "      <td>0</td>\n",
       "    </tr>\n",
       "    <tr>\n",
       "      <th>1</th>\n",
       "      <td>1</td>\n",
       "      <td>Internet</td>\n",
       "      <td>RoundTrip</td>\n",
       "      <td>112</td>\n",
       "      <td>20</td>\n",
       "      <td>3</td>\n",
       "      <td>Sat</td>\n",
       "      <td>AKLDEL</td>\n",
       "      <td>New Zealand</td>\n",
       "      <td>0</td>\n",
       "      <td>0</td>\n",
       "      <td>0</td>\n",
       "      <td>5.52</td>\n",
       "      <td>0</td>\n",
       "    </tr>\n",
       "    <tr>\n",
       "      <th>2</th>\n",
       "      <td>2</td>\n",
       "      <td>Internet</td>\n",
       "      <td>RoundTrip</td>\n",
       "      <td>243</td>\n",
       "      <td>22</td>\n",
       "      <td>17</td>\n",
       "      <td>Wed</td>\n",
       "      <td>AKLDEL</td>\n",
       "      <td>India</td>\n",
       "      <td>1</td>\n",
       "      <td>1</td>\n",
       "      <td>0</td>\n",
       "      <td>5.52</td>\n",
       "      <td>0</td>\n",
       "    </tr>\n",
       "    <tr>\n",
       "      <th>3</th>\n",
       "      <td>1</td>\n",
       "      <td>Internet</td>\n",
       "      <td>RoundTrip</td>\n",
       "      <td>96</td>\n",
       "      <td>31</td>\n",
       "      <td>4</td>\n",
       "      <td>Sat</td>\n",
       "      <td>AKLDEL</td>\n",
       "      <td>New Zealand</td>\n",
       "      <td>0</td>\n",
       "      <td>0</td>\n",
       "      <td>1</td>\n",
       "      <td>5.52</td>\n",
       "      <td>0</td>\n",
       "    </tr>\n",
       "    <tr>\n",
       "      <th>4</th>\n",
       "      <td>2</td>\n",
       "      <td>Internet</td>\n",
       "      <td>RoundTrip</td>\n",
       "      <td>68</td>\n",
       "      <td>22</td>\n",
       "      <td>15</td>\n",
       "      <td>Wed</td>\n",
       "      <td>AKLDEL</td>\n",
       "      <td>India</td>\n",
       "      <td>1</td>\n",
       "      <td>0</td>\n",
       "      <td>1</td>\n",
       "      <td>5.52</td>\n",
       "      <td>0</td>\n",
       "    </tr>\n",
       "  </tbody>\n",
       "</table>\n",
       "</div>"
      ],
      "text/plain": [
       "   num_passengers sales_channel  trip_type  purchase_lead  length_of_stay  \\\n",
       "0               2      Internet  RoundTrip            262              19   \n",
       "1               1      Internet  RoundTrip            112              20   \n",
       "2               2      Internet  RoundTrip            243              22   \n",
       "3               1      Internet  RoundTrip             96              31   \n",
       "4               2      Internet  RoundTrip             68              22   \n",
       "\n",
       "   flight_hour flight_day   route booking_origin  wants_extra_baggage  \\\n",
       "0            7        Sat  AKLDEL    New Zealand                    1   \n",
       "1            3        Sat  AKLDEL    New Zealand                    0   \n",
       "2           17        Wed  AKLDEL          India                    1   \n",
       "3            4        Sat  AKLDEL    New Zealand                    0   \n",
       "4           15        Wed  AKLDEL          India                    1   \n",
       "\n",
       "   wants_preferred_seat  wants_in_flight_meals  flight_duration  \\\n",
       "0                     0                      0             5.52   \n",
       "1                     0                      0             5.52   \n",
       "2                     1                      0             5.52   \n",
       "3                     0                      1             5.52   \n",
       "4                     0                      1             5.52   \n",
       "\n",
       "   booking_complete  \n",
       "0                 0  \n",
       "1                 0  \n",
       "2                 0  \n",
       "3                 0  \n",
       "4                 0  "
      ]
     },
     "execution_count": 23,
     "metadata": {},
     "output_type": "execute_result"
    }
   ],
   "source": [
    "df.head()"
   ]
  },
  {
   "cell_type": "code",
   "execution_count": 24,
   "id": "34910241-a048-4038-9cf3-b08b200070f0",
   "metadata": {},
   "outputs": [
    {
     "data": {
      "text/plain": [
       "num_passengers             int64\n",
       "sales_channel             object\n",
       "trip_type                 object\n",
       "purchase_lead              int64\n",
       "length_of_stay             int64\n",
       "flight_hour                int64\n",
       "flight_day                object\n",
       "route                     object\n",
       "booking_origin            object\n",
       "wants_extra_baggage        int64\n",
       "wants_preferred_seat       int64\n",
       "wants_in_flight_meals      int64\n",
       "flight_duration          float64\n",
       "booking_complete           int64\n",
       "dtype: object"
      ]
     },
     "execution_count": 24,
     "metadata": {},
     "output_type": "execute_result"
    }
   ],
   "source": [
    "df.dtypes"
   ]
  },
  {
   "cell_type": "code",
   "execution_count": 26,
   "id": "1d73eebb-7068-4689-a41f-4d264cec625b",
   "metadata": {},
   "outputs": [
    {
     "data": {
      "text/plain": [
       "(50000, 14)"
      ]
     },
     "execution_count": 26,
     "metadata": {},
     "output_type": "execute_result"
    }
   ],
   "source": [
    "df.shape"
   ]
  },
  {
   "cell_type": "code",
   "execution_count": 28,
   "id": "c080f486-dae5-4805-add3-9b25560456d3",
   "metadata": {},
   "outputs": [
    {
     "data": {
      "text/plain": [
       "num_passengers           0\n",
       "sales_channel            0\n",
       "trip_type                0\n",
       "purchase_lead            0\n",
       "length_of_stay           0\n",
       "flight_hour              0\n",
       "flight_day               0\n",
       "route                    0\n",
       "booking_origin           0\n",
       "wants_extra_baggage      0\n",
       "wants_preferred_seat     0\n",
       "wants_in_flight_meals    0\n",
       "flight_duration          0\n",
       "booking_complete         0\n",
       "dtype: int64"
      ]
     },
     "execution_count": 28,
     "metadata": {},
     "output_type": "execute_result"
    }
   ],
   "source": [
    "df.isnull().sum()"
   ]
  },
  {
   "cell_type": "code",
   "execution_count": 29,
   "id": "185e1fe4-3eb4-4480-8cb0-95adcf3e38ce",
   "metadata": {},
   "outputs": [
    {
     "data": {
      "text/plain": [
       "booking_complete\n",
       "0    42522\n",
       "1     7478\n",
       "Name: count, dtype: int64"
      ]
     },
     "execution_count": 29,
     "metadata": {},
     "output_type": "execute_result"
    }
   ],
   "source": [
    "df.booking_complete.value_counts()"
   ]
  },
  {
   "cell_type": "code",
   "execution_count": 31,
   "id": "eee1306a-3903-41bc-be72-f5d9214bc0ee",
   "metadata": {},
   "outputs": [],
   "source": [
    "X = df.drop('booking_complete', axis=1)\n",
    "y = df.booking_complete\n",
    "\n",
    "#changing object dtype to int type\n",
    "for colname in X.select_dtypes(\"object\"):\n",
    "    X[colname], _ = X[colname].factorize()"
   ]
  },
  {
   "cell_type": "code",
   "execution_count": 32,
   "id": "eefdc8a7-f87e-4613-b103-10d285d44439",
   "metadata": {},
   "outputs": [
    {
     "data": {
      "text/plain": [
       "num_passengers             int64\n",
       "sales_channel              int64\n",
       "trip_type                  int64\n",
       "purchase_lead              int64\n",
       "length_of_stay             int64\n",
       "flight_hour                int64\n",
       "flight_day                 int64\n",
       "route                      int64\n",
       "booking_origin             int64\n",
       "wants_extra_baggage        int64\n",
       "wants_preferred_seat       int64\n",
       "wants_in_flight_meals      int64\n",
       "flight_duration          float64\n",
       "dtype: object"
      ]
     },
     "execution_count": 32,
     "metadata": {},
     "output_type": "execute_result"
    }
   ],
   "source": [
    "X.dtypes"
   ]
  },
  {
   "cell_type": "code",
   "execution_count": 33,
   "id": "729e7e0d-5cdb-49a9-8c2c-9677dd7d8ac9",
   "metadata": {},
   "outputs": [
    {
     "data": {
      "text/plain": [
       "route                    0.052714\n",
       "booking_origin           0.046185\n",
       "flight_duration          0.020321\n",
       "wants_extra_baggage      0.010939\n",
       "wants_in_flight_meals    0.007891\n",
       "length_of_stay           0.005712\n",
       "flight_day               0.003380\n",
       "wants_preferred_seat     0.003194\n",
       "purchase_lead            0.001985\n",
       "flight_hour              0.001447\n",
       "num_passengers           0.000439\n",
       "sales_channel            0.000000\n",
       "trip_type                0.000000\n",
       "Name: MI Scores, dtype: float64"
      ]
     },
     "execution_count": 33,
     "metadata": {},
     "output_type": "execute_result"
    }
   ],
   "source": [
    "from sklearn.feature_selection import mutual_info_classif\n",
    "\n",
    "mi_scores = mutual_info_classif(X, y)\n",
    "mi_scores = pd.Series(mi_scores, name=\"MI Scores\", index=X.columns)\n",
    "mi_scores = mi_scores.sort_values(ascending=False)\n",
    "\n",
    "# show a few features with their MI scores\n",
    "mi_scores"
   ]
  },
  {
   "cell_type": "code",
   "execution_count": 34,
   "id": "5e1f7037-78f3-4024-b7e7-422d1f705e25",
   "metadata": {},
   "outputs": [
    {
     "data": {
      "image/png": "[encoded data removed]",
      "text/plain": [
       "<Figure size 800x500 with 1 Axes>"
      ]
     },
     "metadata": {},
     "output_type": "display_data"
    }
   ],
   "source": [
    "def plot_mi_scores(scores):\n",
    "    scores = scores.sort_values(ascending=True)\n",
    "    width = np.arange(len(scores))\n",
    "    ticks = list(scores.index)\n",
    "    plt.barh(width, scores)\n",
    "    plt.yticks(width, ticks)\n",
    "    plt.title(\"Mutual Information Scores\")\n",
    "\n",
    "\n",
    "plt.figure(dpi=100, figsize=(8, 5))\n",
    "plot_mi_scores(mi_scores)"
   ]
  },
  {
   "cell_type": "code",
   "execution_count": 37,
   "id": "95a8503c-8a33-4f34-ba2e-2f3c69eb9ece",
   "metadata": {},
   "outputs": [
    {
     "ename": "ValueError",
     "evalue": "Could not interpret value `` for parameter `y`",
     "output_type": "error",
     "traceback": [
      "\u001b[1;31m---------------------------------------------------------------------------\u001b[0m",
      "\u001b[1;31mValueError\u001b[0m                                Traceback (most recent call last)",
      "Cell \u001b[1;32mIn[37], line 1\u001b[0m\n\u001b[1;32m----> 1\u001b[0m sns\u001b[38;5;241m.\u001b[39mjointplot(data\u001b[38;5;241m=\u001b[39mdf,x\u001b[38;5;241m=\u001b[39m\u001b[38;5;124m'\u001b[39m\u001b[38;5;124mroute\u001b[39m\u001b[38;5;124m'\u001b[39m,y\u001b[38;5;241m=\u001b[39m\u001b[38;5;124m'\u001b[39m\u001b[38;5;124m'\u001b[39m)\n",
      "File \u001b[1;32m~\\AppData\\Local\\anaconda3\\Lib\\site-packages\\seaborn\\axisgrid.py:2241\u001b[0m, in \u001b[0;36mjointplot\u001b[1;34m(data, x, y, hue, kind, height, ratio, space, dropna, xlim, ylim, color, palette, hue_order, hue_norm, marginal_ticks, joint_kws, marginal_kws, **kwargs)\u001b[0m\n\u001b[0;32m   2238\u001b[0m     dropna \u001b[38;5;241m=\u001b[39m \u001b[38;5;28;01mTrue\u001b[39;00m\n\u001b[0;32m   2240\u001b[0m \u001b[38;5;66;03m# Initialize the JointGrid object\u001b[39;00m\n\u001b[1;32m-> 2241\u001b[0m grid \u001b[38;5;241m=\u001b[39m JointGrid(\n\u001b[0;32m   2242\u001b[0m     data\u001b[38;5;241m=\u001b[39mdata, x\u001b[38;5;241m=\u001b[39mx, y\u001b[38;5;241m=\u001b[39my, hue\u001b[38;5;241m=\u001b[39mhue,\n\u001b[0;32m   2243\u001b[0m     palette\u001b[38;5;241m=\u001b[39mpalette, hue_order\u001b[38;5;241m=\u001b[39mhue_order, hue_norm\u001b[38;5;241m=\u001b[39mhue_norm,\n\u001b[0;32m   2244\u001b[0m     dropna\u001b[38;5;241m=\u001b[39mdropna, height\u001b[38;5;241m=\u001b[39mheight, ratio\u001b[38;5;241m=\u001b[39mratio, space\u001b[38;5;241m=\u001b[39mspace,\n\u001b[0;32m   2245\u001b[0m     xlim\u001b[38;5;241m=\u001b[39mxlim, ylim\u001b[38;5;241m=\u001b[39mylim, marginal_ticks\u001b[38;5;241m=\u001b[39mmarginal_ticks,\n\u001b[0;32m   2246\u001b[0m )\n\u001b[0;32m   2248\u001b[0m \u001b[38;5;28;01mif\u001b[39;00m grid\u001b[38;5;241m.\u001b[39mhue \u001b[38;5;129;01mis\u001b[39;00m \u001b[38;5;129;01mnot\u001b[39;00m \u001b[38;5;28;01mNone\u001b[39;00m:\n\u001b[0;32m   2249\u001b[0m     marginal_kws\u001b[38;5;241m.\u001b[39msetdefault(\u001b[38;5;124m\"\u001b[39m\u001b[38;5;124mlegend\u001b[39m\u001b[38;5;124m\"\u001b[39m, \u001b[38;5;28;01mFalse\u001b[39;00m)\n",
      "File \u001b[1;32m~\\AppData\\Local\\anaconda3\\Lib\\site-packages\\seaborn\\axisgrid.py:1722\u001b[0m, in \u001b[0;36mJointGrid.__init__\u001b[1;34m(self, data, x, y, hue, height, ratio, space, palette, hue_order, hue_norm, dropna, xlim, ylim, marginal_ticks)\u001b[0m\n\u001b[0;32m   1719\u001b[0m     ax_marg_y\u001b[38;5;241m.\u001b[39mxaxis\u001b[38;5;241m.\u001b[39mgrid(\u001b[38;5;28;01mFalse\u001b[39;00m)\n\u001b[0;32m   1721\u001b[0m \u001b[38;5;66;03m# Process the input variables\u001b[39;00m\n\u001b[1;32m-> 1722\u001b[0m p \u001b[38;5;241m=\u001b[39m VectorPlotter(data\u001b[38;5;241m=\u001b[39mdata, variables\u001b[38;5;241m=\u001b[39m\u001b[38;5;28mdict\u001b[39m(x\u001b[38;5;241m=\u001b[39mx, y\u001b[38;5;241m=\u001b[39my, hue\u001b[38;5;241m=\u001b[39mhue))\n\u001b[0;32m   1723\u001b[0m plot_data \u001b[38;5;241m=\u001b[39m p\u001b[38;5;241m.\u001b[39mplot_data\u001b[38;5;241m.\u001b[39mloc[:, p\u001b[38;5;241m.\u001b[39mplot_data\u001b[38;5;241m.\u001b[39mnotna()\u001b[38;5;241m.\u001b[39many()]\n\u001b[0;32m   1725\u001b[0m \u001b[38;5;66;03m# Possibly drop NA\u001b[39;00m\n",
      "File \u001b[1;32m~\\AppData\\Local\\anaconda3\\Lib\\site-packages\\seaborn\\_oldcore.py:640\u001b[0m, in \u001b[0;36mVectorPlotter.__init__\u001b[1;34m(self, data, variables)\u001b[0m\n\u001b[0;32m    635\u001b[0m \u001b[38;5;66;03m# var_ordered is relevant only for categorical axis variables, and may\u001b[39;00m\n\u001b[0;32m    636\u001b[0m \u001b[38;5;66;03m# be better handled by an internal axis information object that tracks\u001b[39;00m\n\u001b[0;32m    637\u001b[0m \u001b[38;5;66;03m# such information and is set up by the scale_* methods. The analogous\u001b[39;00m\n\u001b[0;32m    638\u001b[0m \u001b[38;5;66;03m# information for numeric axes would be information about log scales.\u001b[39;00m\n\u001b[0;32m    639\u001b[0m \u001b[38;5;28mself\u001b[39m\u001b[38;5;241m.\u001b[39m_var_ordered \u001b[38;5;241m=\u001b[39m {\u001b[38;5;124m\"\u001b[39m\u001b[38;5;124mx\u001b[39m\u001b[38;5;124m\"\u001b[39m: \u001b[38;5;28;01mFalse\u001b[39;00m, \u001b[38;5;124m\"\u001b[39m\u001b[38;5;124my\u001b[39m\u001b[38;5;124m\"\u001b[39m: \u001b[38;5;28;01mFalse\u001b[39;00m}  \u001b[38;5;66;03m# alt., used DefaultDict\u001b[39;00m\n\u001b[1;32m--> 640\u001b[0m \u001b[38;5;28mself\u001b[39m\u001b[38;5;241m.\u001b[39massign_variables(data, variables)\n\u001b[0;32m    642\u001b[0m \u001b[38;5;28;01mfor\u001b[39;00m var, \u001b[38;5;28mcls\u001b[39m \u001b[38;5;129;01min\u001b[39;00m \u001b[38;5;28mself\u001b[39m\u001b[38;5;241m.\u001b[39m_semantic_mappings\u001b[38;5;241m.\u001b[39mitems():\n\u001b[0;32m    643\u001b[0m \n\u001b[0;32m    644\u001b[0m     \u001b[38;5;66;03m# Create the mapping function\u001b[39;00m\n\u001b[0;32m    645\u001b[0m     map_func \u001b[38;5;241m=\u001b[39m partial(\u001b[38;5;28mcls\u001b[39m\u001b[38;5;241m.\u001b[39mmap, plotter\u001b[38;5;241m=\u001b[39m\u001b[38;5;28mself\u001b[39m)\n",
      "File \u001b[1;32m~\\AppData\\Local\\anaconda3\\Lib\\site-packages\\seaborn\\_oldcore.py:701\u001b[0m, in \u001b[0;36mVectorPlotter.assign_variables\u001b[1;34m(self, data, variables)\u001b[0m\n\u001b[0;32m    699\u001b[0m \u001b[38;5;28;01melse\u001b[39;00m:\n\u001b[0;32m    700\u001b[0m     \u001b[38;5;28mself\u001b[39m\u001b[38;5;241m.\u001b[39minput_format \u001b[38;5;241m=\u001b[39m \u001b[38;5;124m\"\u001b[39m\u001b[38;5;124mlong\u001b[39m\u001b[38;5;124m\"\u001b[39m\n\u001b[1;32m--> 701\u001b[0m     plot_data, variables \u001b[38;5;241m=\u001b[39m \u001b[38;5;28mself\u001b[39m\u001b[38;5;241m.\u001b[39m_assign_variables_longform(\n\u001b[0;32m    702\u001b[0m         data, \u001b[38;5;241m*\u001b[39m\u001b[38;5;241m*\u001b[39mvariables,\n\u001b[0;32m    703\u001b[0m     )\n\u001b[0;32m    705\u001b[0m \u001b[38;5;28mself\u001b[39m\u001b[38;5;241m.\u001b[39mplot_data \u001b[38;5;241m=\u001b[39m plot_data\n\u001b[0;32m    706\u001b[0m \u001b[38;5;28mself\u001b[39m\u001b[38;5;241m.\u001b[39mvariables \u001b[38;5;241m=\u001b[39m variables\n",
      "File \u001b[1;32m~\\AppData\\Local\\anaconda3\\Lib\\site-packages\\seaborn\\_oldcore.py:938\u001b[0m, in \u001b[0;36mVectorPlotter._assign_variables_longform\u001b[1;34m(self, data, **kwargs)\u001b[0m\n\u001b[0;32m    933\u001b[0m \u001b[38;5;28;01melif\u001b[39;00m \u001b[38;5;28misinstance\u001b[39m(val, (\u001b[38;5;28mstr\u001b[39m, \u001b[38;5;28mbytes\u001b[39m)):\n\u001b[0;32m    934\u001b[0m \n\u001b[0;32m    935\u001b[0m     \u001b[38;5;66;03m# This looks like a column name but we don't know what it means!\u001b[39;00m\n\u001b[0;32m    937\u001b[0m     err \u001b[38;5;241m=\u001b[39m \u001b[38;5;124mf\u001b[39m\u001b[38;5;124m\"\u001b[39m\u001b[38;5;124mCould not interpret value `\u001b[39m\u001b[38;5;132;01m{\u001b[39;00mval\u001b[38;5;132;01m}\u001b[39;00m\u001b[38;5;124m` for parameter `\u001b[39m\u001b[38;5;132;01m{\u001b[39;00mkey\u001b[38;5;132;01m}\u001b[39;00m\u001b[38;5;124m`\u001b[39m\u001b[38;5;124m\"\u001b[39m\n\u001b[1;32m--> 938\u001b[0m     \u001b[38;5;28;01mraise\u001b[39;00m \u001b[38;5;167;01mValueError\u001b[39;00m(err)\n\u001b[0;32m    940\u001b[0m \u001b[38;5;28;01melse\u001b[39;00m:\n\u001b[0;32m    941\u001b[0m \n\u001b[0;32m    942\u001b[0m     \u001b[38;5;66;03m# Otherwise, assume the value is itself data\u001b[39;00m\n\u001b[0;32m    943\u001b[0m \n\u001b[0;32m    944\u001b[0m     \u001b[38;5;66;03m# Raise when data object is present and a vector can't matched\u001b[39;00m\n\u001b[0;32m    945\u001b[0m     \u001b[38;5;28;01mif\u001b[39;00m \u001b[38;5;28misinstance\u001b[39m(data, pd\u001b[38;5;241m.\u001b[39mDataFrame) \u001b[38;5;129;01mand\u001b[39;00m \u001b[38;5;129;01mnot\u001b[39;00m \u001b[38;5;28misinstance\u001b[39m(val, pd\u001b[38;5;241m.\u001b[39mSeries):\n",
      "\u001b[1;31mValueError\u001b[0m: Could not interpret value `` for parameter `y`"
     ]
    },
    {
     "data": {
      "image/png": "[encoded data removed]",
      "text/plain": [
       "<Figure size 600x600 with 3 Axes>"
      ]
     },
     "metadata": {},
     "output_type": "display_data"
    }
   ],
   "source": [
    "sns.jointplot(data=df,x='route',y='')"
   ]
  },
  {
   "cell_type": "code",
   "execution_count": 38,
   "id": "27474ee1-12b4-4bac-857e-11c463965464",
   "metadata": {},
   "outputs": [],
   "source": [
    "#test train split\n",
    "\n",
    "from sklearn.model_selection import train_test_split\n",
    "\n",
    "# dataset split\n",
    "# creating a function for dataset split\n",
    "def dataset(X,y):\n",
    "    train_full_X, val_X, train_full_y, val_y = train_test_split(X, y,test_size=0.2,random_state = 0)\n",
    "\n",
    "# Use the same function above for the validation set\n",
    "    train_X, test_X, train_y, test_y = train_test_split(train_full_X, train_full_y, test_size=0.25,random_state = 0)\n",
    "    return (train_X, val_X, train_y, val_y)"
   ]
  },
  {
   "cell_type": "code",
   "execution_count": 39,
   "id": "d262f771-40cd-4797-ae9a-693cdb3e1dcf",
   "metadata": {},
   "outputs": [],
   "source": [
    "from sklearn.preprocessing import MinMaxScaler\n",
    "\n",
    "def scale(X):\n",
    "    scaler = MinMaxScaler()\n",
    "    scaler.fit(X)\n",
    "    return X\n"
   ]
  },
  {
   "cell_type": "code",
   "execution_count": 40,
   "id": "c35b9ade-6c54-4107-a28c-2b00429a4b45",
   "metadata": {},
   "outputs": [
    {
     "name": "stdout",
     "output_type": "stream",
     "text": [
      "ACCURACY:  83.36\n",
      "AUC score:  0.5657818407546988\n"
     ]
    }
   ],
   "source": [
    "from sklearn.metrics import roc_auc_score\n",
    "from sklearn.metrics import accuracy_score\n",
    "from sklearn.ensemble import RandomForestClassifier\n",
    "\n",
    "\n",
    "\n",
    "#assigning the features under a list\n",
    "\n",
    "features=['route','booking_origin','flight_duration','wants_extra_baggage', 'length_of_stay','num_passengers']\n",
    "X= df[features]\n",
    "#one hot encoding\n",
    "X = pd.get_dummies(X, columns=features)\n",
    "X= scale(X)\n",
    "y= df.booking_complete       \n",
    "\n",
    "X_train,X_val,y_train,y_val= dataset(X,y)\n",
    "\n",
    "forest_model= RandomForestClassifier(random_state=1)\n",
    "forest_model.fit(X_train, y_train)\n",
    "preds= forest_model.predict(X_val)\n",
    "\n",
    "print('ACCURACY: ',accuracy_score(y_val,preds)*100)\n",
    "print('AUC score: ',roc_auc_score(y_val,preds))"
   ]
  },
  {
   "cell_type": "code",
   "execution_count": 42,
   "id": "fb3635d2-47ba-42d3-98c8-8459df4fb37f",
   "metadata": {},
   "outputs": [
    {
     "name": "stdout",
     "output_type": "stream",
     "text": [
      "Collecting xgboostNote: you may need to restart the kernel to use updated packages.\n",
      "\n",
      "  Downloading xgboost-2.0.3-py3-none-win_amd64.whl.metadata (2.0 kB)\n",
      "Requirement already satisfied: numpy in c:\\users\\chandrabhushan.yadav\\appdata\\local\\anaconda3\\lib\\site-packages (from xgboost) (1.26.4)\n",
      "Requirement already satisfied: scipy in c:\\users\\chandrabhushan.yadav\\appdata\\local\\anaconda3\\lib\\site-packages (from xgboost) (1.11.4)\n",
      "Downloading xgboost-2.0.3-py3-none-win_amd64.whl (99.8 MB)\n",
      "   ---------------------------------------- 0.0/99.8 MB ? eta -:--:--\n",
      "   ---------------------------------------- 0.5/99.8 MB 10.0 MB/s eta 0:00:10\n",
      "   ---------------------------------------- 0.9/99.8 MB 9.5 MB/s eta 0:00:11\n",
      "    --------------------------------------- 1.3/99.8 MB 8.9 MB/s eta 0:00:12\n",
      "    --------------------------------------- 1.7/99.8 MB 8.8 MB/s eta 0:00:12\n",
      "    --------------------------------------- 2.0/99.8 MB 8.5 MB/s eta 0:00:12\n",
      "    --------------------------------------- 2.4/99.8 MB 8.5 MB/s eta 0:00:12\n",
      "   - -------------------------------------- 2.9/99.8 MB 8.8 MB/s eta 0:00:12\n",
      "   - -------------------------------------- 3.3/99.8 MB 8.8 MB/s eta 0:00:11\n",
      "   - -------------------------------------- 3.8/99.8 MB 8.9 MB/s eta 0:00:11\n",
      "   - -------------------------------------- 4.2/99.8 MB 9.0 MB/s eta 0:00:11\n",
      "   - -------------------------------------- 4.7/99.8 MB 9.0 MB/s eta 0:00:11\n",
      "   -- ------------------------------------- 5.0/99.8 MB 8.9 MB/s eta 0:00:11\n",
      "   -- ------------------------------------- 5.5/99.8 MB 9.0 MB/s eta 0:00:11\n",
      "   -- ------------------------------------- 5.9/99.8 MB 9.0 MB/s eta 0:00:11\n",
      "   -- ------------------------------------- 6.4/99.8 MB 8.9 MB/s eta 0:00:11\n",
      "   -- ------------------------------------- 6.8/99.8 MB 8.9 MB/s eta 0:00:11\n",
      "   -- ------------------------------------- 7.4/99.8 MB 9.3 MB/s eta 0:00:10\n",
      "   --- ------------------------------------ 7.9/99.8 MB 9.1 MB/s eta 0:00:11\n",
      "   --- ------------------------------------ 8.3/99.8 MB 9.2 MB/s eta 0:00:10\n",
      "   --- ------------------------------------ 8.8/99.8 MB 9.2 MB/s eta 0:00:10\n",
      "   --- ------------------------------------ 9.2/99.8 MB 9.2 MB/s eta 0:00:10\n",
      "   --- ------------------------------------ 9.7/99.8 MB 9.2 MB/s eta 0:00:10\n",
      "   ---- ----------------------------------- 10.1/99.8 MB 9.3 MB/s eta 0:00:10\n",
      "   ---- ----------------------------------- 10.5/99.8 MB 9.1 MB/s eta 0:00:10\n",
      "   ---- ----------------------------------- 10.9/99.8 MB 9.1 MB/s eta 0:00:10\n",
      "   ---- ----------------------------------- 11.3/99.8 MB 9.1 MB/s eta 0:00:10\n",
      "   ---- ----------------------------------- 11.8/99.8 MB 9.2 MB/s eta 0:00:10\n",
      "   ---- ----------------------------------- 12.2/99.8 MB 9.4 MB/s eta 0:00:10\n",
      "   ----- ---------------------------------- 12.7/99.8 MB 9.5 MB/s eta 0:00:10\n",
      "   ----- ---------------------------------- 13.3/99.8 MB 9.5 MB/s eta 0:00:10\n",
      "   ----- ---------------------------------- 13.8/99.8 MB 9.5 MB/s eta 0:00:10\n",
      "   ----- ---------------------------------- 14.0/99.8 MB 9.5 MB/s eta 0:00:10\n",
      "   ----- ---------------------------------- 14.5/99.8 MB 9.5 MB/s eta 0:00:09\n",
      "   ----- ---------------------------------- 14.9/99.8 MB 9.5 MB/s eta 0:00:09\n",
      "   ------ --------------------------------- 15.4/99.8 MB 9.6 MB/s eta 0:00:09\n",
      "   ------ --------------------------------- 16.0/99.8 MB 9.6 MB/s eta 0:00:09\n",
      "   ------ --------------------------------- 16.5/99.8 MB 9.8 MB/s eta 0:00:09\n",
      "   ------ --------------------------------- 17.0/99.8 MB 9.8 MB/s eta 0:00:09\n",
      "   ------- -------------------------------- 17.5/99.8 MB 9.6 MB/s eta 0:00:09\n",
      "   ------- -------------------------------- 17.9/99.8 MB 9.5 MB/s eta 0:00:09\n",
      "   ------- -------------------------------- 18.3/99.8 MB 9.8 MB/s eta 0:00:09\n",
      "   ------- -------------------------------- 18.8/99.8 MB 9.5 MB/s eta 0:00:09\n",
      "   ------- -------------------------------- 19.2/99.8 MB 9.6 MB/s eta 0:00:09\n",
      "   ------- -------------------------------- 19.7/99.8 MB 9.5 MB/s eta 0:00:09\n",
      "   -------- ------------------------------- 20.2/99.8 MB 9.6 MB/s eta 0:00:09\n",
      "   -------- ------------------------------- 20.4/99.8 MB 9.5 MB/s eta 0:00:09\n",
      "   -------- ------------------------------- 20.8/99.8 MB 9.5 MB/s eta 0:00:09\n",
      "   -------- ------------------------------- 21.1/99.8 MB 9.4 MB/s eta 0:00:09\n",
      "   -------- ------------------------------- 21.6/99.8 MB 9.5 MB/s eta 0:00:09\n",
      "   -------- ------------------------------- 22.1/99.8 MB 9.5 MB/s eta 0:00:09\n",
      "   --------- ------------------------------ 22.5/99.8 MB 9.5 MB/s eta 0:00:09\n",
      "   --------- ------------------------------ 22.8/99.8 MB 9.4 MB/s eta 0:00:09\n",
      "   --------- ------------------------------ 23.4/99.8 MB 9.4 MB/s eta 0:00:09\n",
      "   --------- ------------------------------ 23.8/99.8 MB 9.2 MB/s eta 0:00:09\n",
      "   --------- ------------------------------ 24.3/99.8 MB 9.4 MB/s eta 0:00:09\n",
      "   --------- ------------------------------ 24.7/99.8 MB 9.5 MB/s eta 0:00:08\n",
      "   ---------- ----------------------------- 25.1/99.8 MB 9.4 MB/s eta 0:00:08\n",
      "   ---------- ----------------------------- 25.6/99.8 MB 9.4 MB/s eta 0:00:08\n",
      "   ---------- ----------------------------- 26.0/99.8 MB 9.2 MB/s eta 0:00:08\n",
      "   ---------- ----------------------------- 26.4/99.8 MB 9.1 MB/s eta 0:00:09\n",
      "   ---------- ----------------------------- 26.9/99.8 MB 9.1 MB/s eta 0:00:09\n",
      "   ---------- ----------------------------- 27.3/99.8 MB 9.1 MB/s eta 0:00:08\n",
      "   ----------- ---------------------------- 27.7/99.8 MB 9.0 MB/s eta 0:00:09\n",
      "   ----------- ---------------------------- 28.1/99.8 MB 9.1 MB/s eta 0:00:08\n",
      "   ----------- ---------------------------- 28.5/99.8 MB 9.0 MB/s eta 0:00:08\n",
      "   ----------- ---------------------------- 29.0/99.8 MB 9.1 MB/s eta 0:00:08\n",
      "   ----------- ---------------------------- 29.5/99.8 MB 9.1 MB/s eta 0:00:08\n",
      "   ----------- ---------------------------- 29.9/99.8 MB 9.1 MB/s eta 0:00:08\n",
      "   ------------ --------------------------- 30.3/99.8 MB 8.8 MB/s eta 0:00:08\n",
      "   ------------ --------------------------- 30.8/99.8 MB 9.2 MB/s eta 0:00:08\n",
      "   ------------ --------------------------- 31.3/99.8 MB 9.5 MB/s eta 0:00:08\n",
      "   ------------ --------------------------- 31.6/99.8 MB 9.2 MB/s eta 0:00:08\n",
      "   ------------ --------------------------- 32.0/99.8 MB 9.2 MB/s eta 0:00:08\n",
      "   ------------- -------------------------- 32.6/99.8 MB 9.2 MB/s eta 0:00:08\n",
      "   ------------- -------------------------- 33.1/99.8 MB 9.4 MB/s eta 0:00:08\n",
      "   ------------- -------------------------- 33.5/99.8 MB 9.4 MB/s eta 0:00:08\n",
      "   ------------- -------------------------- 33.6/99.8 MB 9.0 MB/s eta 0:00:08\n",
      "   ------------- -------------------------- 33.9/99.8 MB 8.8 MB/s eta 0:00:08\n",
      "   ------------- -------------------------- 33.9/99.8 MB 8.6 MB/s eta 0:00:08\n",
      "   ------------- -------------------------- 33.9/99.8 MB 8.6 MB/s eta 0:00:08\n",
      "   ------------- -------------------------- 34.3/99.8 MB 8.2 MB/s eta 0:00:09\n",
      "   ------------- -------------------------- 34.6/99.8 MB 8.1 MB/s eta 0:00:09\n",
      "   -------------- ------------------------- 35.0/99.8 MB 7.9 MB/s eta 0:00:09\n",
      "   -------------- ------------------------- 35.4/99.8 MB 8.0 MB/s eta 0:00:09\n",
      "   -------------- ------------------------- 35.8/99.8 MB 8.1 MB/s eta 0:00:08\n",
      "   -------------- ------------------------- 36.3/99.8 MB 8.1 MB/s eta 0:00:08\n",
      "   -------------- ------------------------- 36.6/99.8 MB 7.9 MB/s eta 0:00:09\n",
      "   -------------- ------------------------- 36.8/99.8 MB 7.8 MB/s eta 0:00:09\n",
      "   -------------- ------------------------- 37.0/99.8 MB 7.6 MB/s eta 0:00:09\n",
      "   -------------- ------------------------- 37.2/99.8 MB 7.5 MB/s eta 0:00:09\n",
      "   --------------- ------------------------ 37.4/99.8 MB 7.4 MB/s eta 0:00:09\n",
      "   --------------- ------------------------ 37.6/99.8 MB 7.3 MB/s eta 0:00:09\n",
      "   --------------- ------------------------ 37.9/99.8 MB 7.1 MB/s eta 0:00:09\n",
      "   --------------- ------------------------ 38.1/99.8 MB 7.0 MB/s eta 0:00:09\n",
      "   --------------- ------------------------ 38.4/99.8 MB 7.0 MB/s eta 0:00:09\n",
      "   --------------- ------------------------ 38.7/99.8 MB 6.8 MB/s eta 0:00:09\n",
      "   --------------- ------------------------ 38.9/99.8 MB 6.7 MB/s eta 0:00:10\n",
      "   --------------- ------------------------ 39.2/99.8 MB 6.7 MB/s eta 0:00:10\n",
      "   --------------- ------------------------ 39.4/99.8 MB 6.6 MB/s eta 0:00:10\n",
      "   --------------- ------------------------ 39.6/99.8 MB 6.5 MB/s eta 0:00:10\n",
      "   --------------- ------------------------ 39.8/99.8 MB 6.3 MB/s eta 0:00:10\n",
      "   --------------- ------------------------ 39.8/99.8 MB 6.3 MB/s eta 0:00:10\n",
      "   --------------- ------------------------ 39.8/99.8 MB 6.3 MB/s eta 0:00:10\n",
      "   --------------- ------------------------ 39.9/99.8 MB 5.9 MB/s eta 0:00:11\n",
      "   ---------------- ----------------------- 40.3/99.8 MB 5.9 MB/s eta 0:00:11\n",
      "   ---------------- ----------------------- 40.6/99.8 MB 5.8 MB/s eta 0:00:11\n",
      "   ---------------- ----------------------- 40.9/99.8 MB 5.8 MB/s eta 0:00:11\n",
      "   ---------------- ----------------------- 41.0/99.8 MB 5.7 MB/s eta 0:00:11\n",
      "   ---------------- ----------------------- 41.4/99.8 MB 5.6 MB/s eta 0:00:11\n",
      "   ---------------- ----------------------- 41.8/99.8 MB 5.6 MB/s eta 0:00:11\n",
      "   ---------------- ----------------------- 42.2/99.8 MB 5.6 MB/s eta 0:00:11\n",
      "   ----------------- ---------------------- 42.6/99.8 MB 5.6 MB/s eta 0:00:11\n",
      "   ----------------- ---------------------- 43.0/99.8 MB 5.5 MB/s eta 0:00:11\n",
      "   ----------------- ---------------------- 43.4/99.8 MB 5.5 MB/s eta 0:00:11\n",
      "   ----------------- ---------------------- 43.8/99.8 MB 5.6 MB/s eta 0:00:10\n",
      "   ----------------- ---------------------- 44.3/99.8 MB 6.1 MB/s eta 0:00:10\n",
      "   ------------------ --------------------- 44.9/99.8 MB 6.2 MB/s eta 0:00:09\n",
      "   ------------------ --------------------- 45.5/99.8 MB 6.1 MB/s eta 0:00:09\n",
      "   ------------------ --------------------- 45.9/99.8 MB 6.1 MB/s eta 0:00:09\n",
      "   ------------------ --------------------- 46.3/99.8 MB 6.1 MB/s eta 0:00:09\n",
      "   ------------------ --------------------- 46.6/99.8 MB 6.1 MB/s eta 0:00:09\n",
      "   ------------------ --------------------- 47.0/99.8 MB 6.2 MB/s eta 0:00:09\n",
      "   ------------------ --------------------- 47.3/99.8 MB 6.2 MB/s eta 0:00:09\n",
      "   ------------------- -------------------- 47.5/99.8 MB 6.3 MB/s eta 0:00:09\n",
      "   ------------------- -------------------- 47.7/99.8 MB 6.2 MB/s eta 0:00:09\n",
      "   ------------------- -------------------- 47.8/99.8 MB 6.2 MB/s eta 0:00:09\n",
      "   ------------------- -------------------- 48.0/99.8 MB 6.2 MB/s eta 0:00:09\n",
      "   ------------------- -------------------- 48.4/99.8 MB 6.2 MB/s eta 0:00:09\n",
      "   ------------------- -------------------- 48.7/99.8 MB 6.2 MB/s eta 0:00:09\n",
      "   ------------------- -------------------- 49.1/99.8 MB 6.3 MB/s eta 0:00:09\n",
      "   ------------------- -------------------- 49.5/99.8 MB 6.4 MB/s eta 0:00:08\n",
      "   -------------------- ------------------- 49.9/99.8 MB 6.7 MB/s eta 0:00:08\n",
      "   -------------------- ------------------- 50.2/99.8 MB 7.4 MB/s eta 0:00:07\n",
      "   -------------------- ------------------- 50.6/99.8 MB 7.4 MB/s eta 0:00:07\n",
      "   -------------------- ------------------- 51.0/99.8 MB 7.4 MB/s eta 0:00:07\n",
      "   -------------------- ------------------- 51.3/99.8 MB 7.5 MB/s eta 0:00:07\n",
      "   -------------------- ------------------- 51.8/99.8 MB 7.6 MB/s eta 0:00:07\n",
      "   -------------------- ------------------- 52.3/99.8 MB 7.7 MB/s eta 0:00:07\n",
      "   --------------------- ------------------ 52.7/99.8 MB 7.7 MB/s eta 0:00:07\n",
      "   --------------------- ------------------ 53.2/99.8 MB 7.8 MB/s eta 0:00:06\n",
      "   --------------------- ------------------ 53.5/99.8 MB 7.7 MB/s eta 0:00:07\n",
      "   --------------------- ------------------ 53.9/99.8 MB 7.6 MB/s eta 0:00:07\n",
      "   --------------------- ------------------ 54.3/99.8 MB 7.7 MB/s eta 0:00:06\n",
      "   --------------------- ------------------ 54.7/99.8 MB 7.6 MB/s eta 0:00:06\n",
      "   ---------------------- ----------------- 55.0/99.8 MB 7.5 MB/s eta 0:00:06\n",
      "   ---------------------- ----------------- 55.3/99.8 MB 7.5 MB/s eta 0:00:06\n",
      "   ---------------------- ----------------- 55.6/99.8 MB 7.4 MB/s eta 0:00:06\n",
      "   ---------------------- ----------------- 56.1/99.8 MB 7.5 MB/s eta 0:00:06\n",
      "   ---------------------- ----------------- 56.4/99.8 MB 7.4 MB/s eta 0:00:06\n",
      "   ---------------------- ----------------- 56.9/99.8 MB 7.6 MB/s eta 0:00:06\n",
      "   ----------------------- ---------------- 57.4/99.8 MB 7.6 MB/s eta 0:00:06\n",
      "   ----------------------- ---------------- 57.9/99.8 MB 8.1 MB/s eta 0:00:06\n",
      "   ----------------------- ---------------- 58.4/99.8 MB 8.4 MB/s eta 0:00:05\n",
      "   ----------------------- ---------------- 59.0/99.8 MB 8.7 MB/s eta 0:00:05\n",
      "   ----------------------- ---------------- 59.4/99.8 MB 8.7 MB/s eta 0:00:05\n",
      "   ----------------------- ---------------- 59.8/99.8 MB 8.6 MB/s eta 0:00:05\n",
      "   ------------------------ --------------- 60.1/99.8 MB 8.6 MB/s eta 0:00:05\n",
      "   ------------------------ --------------- 60.4/99.8 MB 8.4 MB/s eta 0:00:05\n",
      "   ------------------------ --------------- 60.7/99.8 MB 8.5 MB/s eta 0:00:05\n",
      "   ------------------------ --------------- 61.1/99.8 MB 8.4 MB/s eta 0:00:05\n",
      "   ------------------------ --------------- 61.4/99.8 MB 8.6 MB/s eta 0:00:05\n",
      "   ------------------------ --------------- 61.7/99.8 MB 8.4 MB/s eta 0:00:05\n",
      "   ------------------------ --------------- 62.1/99.8 MB 8.3 MB/s eta 0:00:05\n",
      "   ------------------------- -------------- 62.5/99.8 MB 8.2 MB/s eta 0:00:05\n",
      "   ------------------------- -------------- 62.9/99.8 MB 8.2 MB/s eta 0:00:05\n",
      "   ------------------------- -------------- 63.3/99.8 MB 8.2 MB/s eta 0:00:05\n",
      "   ------------------------- -------------- 63.8/99.8 MB 8.3 MB/s eta 0:00:05\n",
      "   ------------------------- -------------- 64.3/99.8 MB 8.3 MB/s eta 0:00:05\n",
      "   ------------------------- -------------- 64.5/99.8 MB 8.4 MB/s eta 0:00:05\n",
      "   -------------------------- ------------- 65.0/99.8 MB 8.3 MB/s eta 0:00:05\n",
      "   -------------------------- ------------- 65.3/99.8 MB 8.3 MB/s eta 0:00:05\n",
      "   -------------------------- ------------- 65.4/99.8 MB 8.1 MB/s eta 0:00:05\n",
      "   -------------------------- ------------- 66.2/99.8 MB 8.4 MB/s eta 0:00:04\n",
      "   -------------------------- ------------- 66.7/99.8 MB 8.5 MB/s eta 0:00:04\n",
      "   -------------------------- ------------- 67.0/99.8 MB 8.5 MB/s eta 0:00:04\n",
      "   --------------------------- ------------ 67.5/99.8 MB 8.5 MB/s eta 0:00:04\n",
      "   --------------------------- ------------ 67.9/99.8 MB 8.4 MB/s eta 0:00:04\n",
      "   --------------------------- ------------ 68.2/99.8 MB 8.3 MB/s eta 0:00:04\n",
      "   --------------------------- ------------ 68.6/99.8 MB 8.3 MB/s eta 0:00:04\n",
      "   --------------------------- ------------ 69.0/99.8 MB 8.1 MB/s eta 0:00:04\n",
      "   --------------------------- ------------ 69.4/99.8 MB 8.1 MB/s eta 0:00:04\n",
      "   ---------------------------- ----------- 69.9/99.8 MB 8.2 MB/s eta 0:00:04\n",
      "   ---------------------------- ----------- 70.2/99.8 MB 8.3 MB/s eta 0:00:04\n",
      "   ---------------------------- ----------- 70.8/99.8 MB 8.5 MB/s eta 0:00:04\n",
      "   ---------------------------- ----------- 71.3/99.8 MB 8.6 MB/s eta 0:00:04\n",
      "   ---------------------------- ----------- 71.7/99.8 MB 8.7 MB/s eta 0:00:04\n",
      "   ---------------------------- ----------- 72.1/99.8 MB 8.7 MB/s eta 0:00:04\n",
      "   ----------------------------- ---------- 72.6/99.8 MB 8.7 MB/s eta 0:00:04\n",
      "   ----------------------------- ---------- 73.0/99.8 MB 8.7 MB/s eta 0:00:04\n",
      "   ----------------------------- ---------- 73.4/99.8 MB 8.8 MB/s eta 0:00:03\n",
      "   ----------------------------- ---------- 73.8/99.8 MB 8.6 MB/s eta 0:00:04\n",
      "   ----------------------------- ---------- 74.2/99.8 MB 8.7 MB/s eta 0:00:03\n",
      "   ----------------------------- ---------- 74.7/99.8 MB 9.0 MB/s eta 0:00:03\n",
      "   ------------------------------ --------- 75.2/99.8 MB 9.1 MB/s eta 0:00:03\n",
      "   ------------------------------ --------- 75.6/99.8 MB 9.0 MB/s eta 0:00:03\n",
      "   ------------------------------ --------- 76.2/99.8 MB 9.2 MB/s eta 0:00:03\n",
      "   ------------------------------ --------- 76.7/99.8 MB 9.1 MB/s eta 0:00:03\n",
      "   ------------------------------ --------- 77.1/99.8 MB 9.1 MB/s eta 0:00:03\n",
      "   ------------------------------ --------- 77.1/99.8 MB 9.0 MB/s eta 0:00:03\n",
      "   ------------------------------- -------- 77.4/99.8 MB 8.7 MB/s eta 0:00:03\n",
      "   ------------------------------- -------- 77.9/99.8 MB 8.7 MB/s eta 0:00:03\n",
      "   ------------------------------- -------- 78.3/99.8 MB 8.6 MB/s eta 0:00:03\n",
      "   ------------------------------- -------- 78.8/99.8 MB 8.7 MB/s eta 0:00:03\n",
      "   ------------------------------- -------- 79.2/99.8 MB 8.8 MB/s eta 0:00:03\n",
      "   ------------------------------- -------- 79.7/99.8 MB 9.0 MB/s eta 0:00:03\n",
      "   -------------------------------- ------- 80.4/99.8 MB 8.8 MB/s eta 0:00:03\n",
      "   -------------------------------- ------- 80.8/99.8 MB 8.8 MB/s eta 0:00:03\n",
      "   -------------------------------- ------- 81.4/99.8 MB 9.0 MB/s eta 0:00:03\n",
      "   -------------------------------- ------- 81.8/99.8 MB 9.1 MB/s eta 0:00:02\n",
      "   -------------------------------- ------- 82.3/99.8 MB 9.0 MB/s eta 0:00:02\n",
      "   --------------------------------- ------ 82.6/99.8 MB 9.0 MB/s eta 0:00:02\n",
      "   --------------------------------- ------ 83.1/99.8 MB 8.8 MB/s eta 0:00:02\n",
      "   --------------------------------- ------ 83.5/99.8 MB 8.8 MB/s eta 0:00:02\n",
      "   --------------------------------- ------ 83.9/99.8 MB 9.1 MB/s eta 0:00:02\n",
      "   --------------------------------- ------ 84.3/99.8 MB 9.0 MB/s eta 0:00:02\n",
      "   --------------------------------- ------ 84.8/99.8 MB 8.8 MB/s eta 0:00:02\n",
      "   ---------------------------------- ----- 85.1/99.8 MB 8.8 MB/s eta 0:00:02\n",
      "   ---------------------------------- ----- 85.6/99.8 MB 8.8 MB/s eta 0:00:02\n",
      "   ---------------------------------- ----- 86.0/99.8 MB 8.8 MB/s eta 0:00:02\n",
      "   ---------------------------------- ----- 86.5/99.8 MB 8.7 MB/s eta 0:00:02\n",
      "   ---------------------------------- ----- 86.9/99.8 MB 8.7 MB/s eta 0:00:02\n",
      "   ----------------------------------- ---- 87.4/99.8 MB 9.1 MB/s eta 0:00:02\n",
      "   ----------------------------------- ---- 87.8/99.8 MB 9.0 MB/s eta 0:00:02\n",
      "   ----------------------------------- ---- 88.2/99.8 MB 9.1 MB/s eta 0:00:02\n",
      "   ----------------------------------- ---- 88.5/99.8 MB 9.0 MB/s eta 0:00:02\n",
      "   ----------------------------------- ---- 89.1/99.8 MB 9.1 MB/s eta 0:00:02\n",
      "   ----------------------------------- ---- 89.6/99.8 MB 9.1 MB/s eta 0:00:02\n",
      "   ------------------------------------ --- 90.0/99.8 MB 9.1 MB/s eta 0:00:02\n",
      "   ------------------------------------ --- 90.3/99.8 MB 8.8 MB/s eta 0:00:02\n",
      "   ------------------------------------ --- 90.6/99.8 MB 8.7 MB/s eta 0:00:02\n",
      "   ------------------------------------ --- 91.2/99.8 MB 8.7 MB/s eta 0:00:01\n",
      "   ------------------------------------ --- 91.7/99.8 MB 8.7 MB/s eta 0:00:01\n",
      "   ------------------------------------ --- 92.0/99.8 MB 8.7 MB/s eta 0:00:01\n",
      "   ------------------------------------- -- 92.3/99.8 MB 8.5 MB/s eta 0:00:01\n",
      "   ------------------------------------- -- 92.7/99.8 MB 8.5 MB/s eta 0:00:01\n",
      "   ------------------------------------- -- 93.3/99.8 MB 8.6 MB/s eta 0:00:01\n",
      "   ------------------------------------- -- 93.7/99.8 MB 8.7 MB/s eta 0:00:01\n",
      "   ------------------------------------- -- 94.1/99.8 MB 8.6 MB/s eta 0:00:01\n",
      "   ------------------------------------- -- 94.5/99.8 MB 8.6 MB/s eta 0:00:01\n",
      "   -------------------------------------- - 95.1/99.8 MB 8.6 MB/s eta 0:00:01\n",
      "   -------------------------------------- - 95.5/99.8 MB 8.6 MB/s eta 0:00:01\n",
      "   -------------------------------------- - 96.0/99.8 MB 8.7 MB/s eta 0:00:01\n",
      "   -------------------------------------- - 96.4/99.8 MB 8.7 MB/s eta 0:00:01\n",
      "   -------------------------------------- - 96.7/99.8 MB 8.5 MB/s eta 0:00:01\n",
      "   -------------------------------------- - 97.1/99.8 MB 8.5 MB/s eta 0:00:01\n",
      "   ---------------------------------------  97.6/99.8 MB 8.5 MB/s eta 0:00:01\n",
      "   ---------------------------------------  98.0/99.8 MB 8.6 MB/s eta 0:00:01\n",
      "   ---------------------------------------  98.4/99.8 MB 8.7 MB/s eta 0:00:01\n",
      "   ---------------------------------------  98.9/99.8 MB 8.5 MB/s eta 0:00:01\n",
      "   ---------------------------------------  99.5/99.8 MB 8.5 MB/s eta 0:00:01\n",
      "   ---------------------------------------  99.7/99.8 MB 8.4 MB/s eta 0:00:01\n",
      "   ---------------------------------------  99.7/99.8 MB 8.4 MB/s eta 0:00:01\n",
      "   ---------------------------------------  99.7/99.8 MB 8.4 MB/s eta 0:00:01\n",
      "   ---------------------------------------  99.7/99.8 MB 8.4 MB/s eta 0:00:01\n",
      "   ---------------------------------------  99.7/99.8 MB 8.4 MB/s eta 0:00:01\n",
      "   ---------------------------------------  99.7/99.8 MB 8.4 MB/s eta 0:00:01\n",
      "   ---------------------------------------  99.7/99.8 MB 8.4 MB/s eta 0:00:01\n",
      "   ---------------------------------------  99.7/99.8 MB 8.4 MB/s eta 0:00:01\n",
      "   ---------------------------------------  99.7/99.8 MB 8.4 MB/s eta 0:00:01\n",
      "   ---------------------------------------  99.7/99.8 MB 8.4 MB/s eta 0:00:01\n",
      "   ---------------------------------------  99.7/99.8 MB 8.4 MB/s eta 0:00:01\n",
      "   ---------------------------------------  99.7/99.8 MB 8.4 MB/s eta 0:00:01\n",
      "   ---------------------------------------  99.7/99.8 MB 8.4 MB/s eta 0:00:01\n",
      "   ---------------------------------------  99.7/99.8 MB 8.4 MB/s eta 0:00:01\n",
      "   ---------------------------------------  99.7/99.8 MB 8.4 MB/s eta 0:00:01\n",
      "   ---------------------------------------  99.7/99.8 MB 8.4 MB/s eta 0:00:01\n",
      "   ---------------------------------------  99.7/99.8 MB 8.4 MB/s eta 0:00:01\n",
      "   ---------------------------------------  99.7/99.8 MB 8.4 MB/s eta 0:00:01\n",
      "   ---------------------------------------  99.7/99.8 MB 8.4 MB/s eta 0:00:01\n",
      "   ---------------------------------------  99.7/99.8 MB 8.4 MB/s eta 0:00:01\n",
      "   ---------------------------------------  99.7/99.8 MB 8.4 MB/s eta 0:00:01\n",
      "   ---------------------------------------  99.7/99.8 MB 8.4 MB/s eta 0:00:01\n",
      "   ---------------------------------------  99.7/99.8 MB 8.4 MB/s eta 0:00:01\n",
      "   ---------------------------------------- 99.8/99.8 MB 4.4 MB/s eta 0:00:00\n",
      "Installing collected packages: xgboost\n",
      "Successfully installed xgboost-2.0.3\n"
     ]
    }
   ],
   "source": [
    "pip install xgboost"
   ]
  },
  {
   "cell_type": "code",
   "execution_count": 43,
   "id": "0753fd50-5292-4adf-99a6-90af960366c1",
   "metadata": {},
   "outputs": [
    {
     "name": "stdout",
     "output_type": "stream",
     "text": [
      "ACCURACY:  84.72\n",
      "AUC score:  0.5189398567740671\n"
     ]
    }
   ],
   "source": [
    "from xgboost import XGBClassifier\n",
    "\n",
    "X= df[features]\n",
    "\n",
    "#one hot encoding\n",
    "X = pd.get_dummies(X, columns=features)\n",
    "X= scale(X)\n",
    "\n",
    "y= df.booking_complete    \n",
    "\n",
    "X_train,X_val,y_train,y_val= dataset(X,y)\n",
    "xgb_model = XGBClassifier()\n",
    "\n",
    "xgb_model.fit(X_train, y_train)\n",
    "prediction_xgb = xgb_model.predict(X_val)\n",
    "print('ACCURACY: ',accuracy_score(y_val, prediction_xgb)*100)\n",
    "print('AUC score: ',roc_auc_score(y_val,prediction_xgb))"
   ]
  },
  {
   "cell_type": "code",
   "execution_count": 44,
   "id": "ef7cd09b-7820-417d-b405-86c9d8fb2859",
   "metadata": {},
   "outputs": [
    {
     "name": "stdout",
     "output_type": "stream",
     "text": [
      "ACCURACY:  84.98\n",
      "AUC score:  0.5424676175552812\n"
     ]
    }
   ],
   "source": [
    "X= df.drop('booking_complete',axis=1)\n",
    "#one hot encoding\n",
    "X = pd.get_dummies(X)\n",
    "X= scale(X)\n",
    "y= df.booking_complete \n",
    "\n",
    "X_train,X_val,y_train,y_val= dataset(X,y)\n",
    "\n",
    "\n",
    "xgb_model = XGBClassifier()\n",
    "xgb_model.fit(X_train, y_train)\n",
    "prediction_xgb = xgb_model.predict(X_val)\n",
    "print('ACCURACY: ',accuracy_score(y_val, prediction_xgb)*100)\n",
    "print('AUC score: ',roc_auc_score(y_val,prediction_xgb))"
   ]
  },
  {
   "cell_type": "code",
   "execution_count": 45,
   "id": "1ca310c8-7571-4feb-a656-9d522602d93a",
   "metadata": {},
   "outputs": [
    {
     "name": "stdout",
     "output_type": "stream",
     "text": [
      "ACCURACY:  85.09\n",
      "AUC score:  0.5577796717361984\n"
     ]
    }
   ],
   "source": [
    "X= df.drop('booking_complete',axis=1)\n",
    "#one hot encoding\n",
    "X = pd.get_dummies(X)\n",
    "X= scale(X)\n",
    "y= df.booking_complete       \n",
    "\n",
    "train_full_X,test_X, train_full_y, test_y = train_test_split(X, y,test_size=0.2,random_state = 0)\n",
    "\n",
    "forest_model= RandomForestClassifier(random_state=1)\n",
    "forest_model.fit(train_full_X, train_full_y)\n",
    "preds= forest_model.predict(test_X)\n",
    "\n",
    "print('ACCURACY: ',accuracy_score(test_y,preds)*100)\n",
    "print('AUC score: ',roc_auc_score(test_y,preds))"
   ]
  },
  {
   "cell_type": "code",
   "execution_count": null,
   "id": "7f29eddc-1460-4d35-b539-92ea27b1ea9b",
   "metadata": {},
   "outputs": [],
   "source": []
  }
 ],
 "metadata": {
  "kernelspec": {
   "display_name": "Python 3 (ipykernel)",
   "language": "python",
   "name": "python3"
  },
  "language_info": {
   "codemirror_mode": {
    "name": "ipython",
    "version": 3
   },
   "file_extension": ".py",
   "mimetype": "text/x-python",
   "name": "python",
   "nbconvert_exporter": "python",
   "pygments_lexer": "ipython3",
   "version": "3.11.7"
  }
 },
 "nbformat": 4,
 "nbformat_minor": 5
}
